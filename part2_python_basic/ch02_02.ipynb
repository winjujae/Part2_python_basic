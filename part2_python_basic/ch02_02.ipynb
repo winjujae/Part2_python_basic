{
 "cells": [
  {
   "cell_type": "code",
   "execution_count": 5,
   "id": "1b521ec1-c260-433a-a4d0-f735cfd21e2a",
   "metadata": {},
   "outputs": [
    {
     "name": "stdout",
     "output_type": "stream",
     "text": [
      "<class 'int'>\n",
      "<class 'int'>\n"
     ]
    }
   ],
   "source": [
    "#숫자형\n",
    "a = 1\n",
    "print(type(a))\n",
    "b = 0\n",
    "print(type(b))"
   ]
  },
  {
   "cell_type": "code",
   "execution_count": 23,
   "id": "eba77a3d-278f-4443-81e2-2b0d8fb3cd00",
   "metadata": {},
   "outputs": [
    {
     "name": "stdout",
     "output_type": "stream",
     "text": [
      "<class 'float'>\n",
      "<class 'float'>\n",
      "<class 'int'>\n"
     ]
    }
   ],
   "source": [
    "a = 1.1\n",
    "print(type(a))\n",
    "b = 0.0\n",
    "print(type(b))\n",
    "b = 0\n",
    "print(type(b))"
   ]
  },
  {
   "cell_type": "code",
   "execution_count": 13,
   "id": "6b4590df-2172-4317-95d8-b39e7d8da2c3",
   "metadata": {},
   "outputs": [
    {
     "name": "stdout",
     "output_type": "stream",
     "text": [
      "hellow world\n",
      "hello\n",
      "hellow world\n",
      "w w\n",
      "world\n",
      "hellow w\n"
     ]
    }
   ],
   "source": [
    "#슬라이싱\n",
    "a = 'hellow world'\n",
    "print(a)\n",
    "print(a[:5])\n",
    "print(a[:])\n",
    "print(a[5:8])\n",
    "print(a[-5:])\n",
    "print(a[:-4])"
   ]
  },
  {
   "cell_type": "code",
   "execution_count": 19,
   "id": "ff5afdf7-ef79-46a6-8cf6-28824e8a0ce6",
   "metadata": {},
   "outputs": [
    {
     "name": "stdout",
     "output_type": "stream",
     "text": [
      "helloworld\n",
      "hellohellohello\n",
      "my number is1\n",
      "my number is 1\n",
      "오늘은 5월 10일 입니다.\n",
      "오늘은 5월 10일 입니다. 5월은 가정의 달입니다\n"
     ]
    }
   ],
   "source": [
    "#문자열의 합\n",
    "a = 'hello'\n",
    "b = 'world'\n",
    "print(a + b)\n",
    "print(a * 3)\n",
    "a = 'my number is'\n",
    "b = 1\n",
    "print(a + str(b)) # 문자열과 숫자형을 더하기 위해선 type을 바꿔야한다.\n",
    "print(\"my number is {}\".format(b))\n",
    "print(\"오늘은 {}월 {}일 입니다.\".format(5, 10))\n",
    "print(\"오늘은 {month}월 {day}일 입니다. {month}월은 가정의 달입니다\".format(month=5, day=10))"
   ]
  },
  {
   "cell_type": "code",
   "execution_count": 21,
   "id": "8a534580-ac54-48c6-a123-b58dd1456de5",
   "metadata": {},
   "outputs": [
    {
     "name": "stdout",
     "output_type": "stream",
     "text": [
      "['hello', 'world']\n",
      "['i', 'am', 'a', 'boy']\n",
      "['i.am.a.boy']\n"
     ]
    }
   ],
   "source": [
    "# 문자열 분해\n",
    "a = \"hello world\"\n",
    "print(a.split())\n",
    "a = \"i am a boy\"\n",
    "print(a.split())\n",
    "a = \"i.am.a.boy\"\n",
    "print(a.split())"
   ]
  },
  {
   "cell_type": "code",
   "execution_count": null,
   "id": "7f682082-f3cd-460c-8a7b-25675762aad6",
   "metadata": {},
   "outputs": [],
   "source": []
  }
 ],
 "metadata": {
  "kernelspec": {
   "display_name": "Python 3 (ipykernel)",
   "language": "python",
   "name": "python3"
  },
  "language_info": {
   "codemirror_mode": {
    "name": "ipython",
    "version": 3
   },
   "file_extension": ".py",
   "mimetype": "text/x-python",
   "name": "python",
   "nbconvert_exporter": "python",
   "pygments_lexer": "ipython3",
   "version": "3.10.9"
  }
 },
 "nbformat": 4,
 "nbformat_minor": 5
}
