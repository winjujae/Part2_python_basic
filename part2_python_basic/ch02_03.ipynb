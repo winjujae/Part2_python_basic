{
 "cells": [
  {
   "cell_type": "code",
   "execution_count": 5,
   "id": "d045e16e-cbfc-4f27-a31b-6a1ca18fc481",
   "metadata": {},
   "outputs": [
    {
     "name": "stdout",
     "output_type": "stream",
     "text": [
      "[1, 2, 3, 4]\n",
      "<class 'list'>\n",
      "[1, 2]\n",
      "[1, [1, 2]]\n",
      "[[1, 2], [1, [1, 2]]]\n",
      "[2]\n"
     ]
    }
   ],
   "source": [
    "#리스트\n",
    "a1 = 1\n",
    "a2 = 2\n",
    "a3 = 3\n",
    "a4 = 4\n",
    "a = [1,2,3,4]\n",
    "print(a)\n",
    "print(type(a))\n",
    "b = [1, [1,2], [1,[1,2]]] # 리스트 내 리스트\n",
    "print(b[1])\n",
    "print(b[-1])\n",
    "print(b[1:])\n",
    "print(b[2][1][1:]) # 리스트 내 리스트 추출"
   ]
  },
  {
   "cell_type": "code",
   "execution_count": 8,
   "id": "df18aa26-034c-4b80-be2c-c5b8966eebbf",
   "metadata": {},
   "outputs": [
    {
     "name": "stdout",
     "output_type": "stream",
     "text": [
      "[10, [2, 3], [4, [5, 6, 7]]]\n",
      "[10, [2, 3], [4, [5, 60, 70]]]\n"
     ]
    }
   ],
   "source": [
    "#치환\n",
    "a = [1,[2,3],[4,[5,6,7]]]\n",
    "a[0] = 10\n",
    "print(a)\n",
    "a[2][1][1:] = [60, 70]\n",
    "print(a)"
   ]
  },
  {
   "cell_type": "code",
   "execution_count": 9,
   "id": "f47caaa7-2dd4-4829-9477-8e9a6977d317",
   "metadata": {},
   "outputs": [
    {
     "name": "stdout",
     "output_type": "stream",
     "text": [
      "[1, 2, 3, 4, 5, 6]\n",
      "[1, 2, 3, 1, 2, 3]\n",
      "[1, 2, 3, 4]\n",
      "[1, 2, 3, 4, [5, 6]]\n"
     ]
    }
   ],
   "source": [
    "#리스트 더하기\n",
    "a = [1,2,3]\n",
    "b = [4,5,6]\n",
    "print(a + b)\n",
    "#리스트 곱하기\n",
    "print(a * 2)\n",
    "#append\n",
    "a = [1,2,3]\n",
    "a.append(4)\n",
    "print(a)\n",
    "a.append([5,6])\n",
    "print(a)"
   ]
  },
  {
   "cell_type": "code",
   "execution_count": 14,
   "id": "8b98b651-d68a-44f1-adbd-e0da0c338bba",
   "metadata": {},
   "outputs": [
    {
     "name": "stdout",
     "output_type": "stream",
     "text": [
      "[1, 2]\n",
      "[2]\n",
      "1\n"
     ]
    }
   ],
   "source": [
    "#pop\n",
    "a= [1,2,3]\n",
    "a.pop()\n",
    "print(a)\n",
    "a.pop(0)\n",
    "print(a)\n",
    "#index\n",
    "a= [1,2,3]\n",
    "print(a.index(2)) # 해당 값의 리스트 위치"
   ]
  },
  {
   "cell_type": "code",
   "execution_count": 17,
   "id": "8d64925f-a185-4ce1-804f-705d925c5781",
   "metadata": {},
   "outputs": [
    {
     "name": "stdout",
     "output_type": "stream",
     "text": [
      "<class 'tuple'> (1, 2, 3, 4, 5, 6) (1, 2, 3, 1, 2, 3)\n"
     ]
    }
   ],
   "source": [
    "#튜플\n",
    "a = (1,2,3)\n",
    "b = (4,5,6)\n",
    "c = a + b\n",
    "d = a * 2\n",
    "print(type(c), c, d)"
   ]
  },
  {
   "cell_type": "code",
   "execution_count": 26,
   "id": "777b6e3a-484c-478d-a442-0ee71e4f2aad",
   "metadata": {},
   "outputs": [
    {
     "name": "stdout",
     "output_type": "stream",
     "text": [
      "{'사자': 'lion', '호랑이': 'tigher', '용': 'dragon'}\n",
      "<class 'dict'>\n",
      "{'car': ['bus', 'truck', 'taxi'], 'train': 'ktx'}\n",
      "dict_keys(['car', 'train'])\n",
      "<class 'dict_keys'>\n",
      "<class 'type'>\n",
      "car\n",
      "dict_values([['bus', 'truck', 'taxi'], 'ktx'])\n",
      "<class 'dict_values'>\n",
      "<class 'list'>\n"
     ]
    }
   ],
   "source": [
    "#딕셔너리\n",
    "a = {'사자' : 'lion', '호랑이' : 'tigher' , '용' : 'dragon'}\n",
    "print(a)\n",
    "print(type(a))\n",
    "#하나의 키에 여러개 value 구성가능\n",
    "a= {'car' : ['bus', 'truck','taxi'],'train' : 'ktx'}\n",
    "print(a)\n",
    "key = a.keys()\n",
    "print(key)\n",
    "print(type(key))\n",
    "key2 = list(key)\n",
    "print(type(type(key2)))\n",
    "print(key2[0])\n",
    "\n",
    "value = a.values()\n",
    "print(value)\n",
    "print(type(value))\n",
    "value2 = list(value)\n",
    "print(type(value2))"
   ]
  },
  {
   "cell_type": "code",
   "execution_count": 28,
   "id": "bff443a2-8ddb-4844-9d15-314131bf6888",
   "metadata": {},
   "outputs": [
    {
     "name": "stdout",
     "output_type": "stream",
     "text": [
      "{'car': ['bus', 'truck', 'taxi'], 'train': 'ktx', 'plane': 'jet'}\n",
      "{'car': ['bus', 'truck', 'taxi'], 'train': 'ktx', 'plane': 'jet'}\n",
      "{'train': 'ktx', 'plane': 'jet'}\n"
     ]
    }
   ],
   "source": [
    "#요소 추가하기\n",
    "print(a)\n",
    "a['plane']='jet'\n",
    "print(a)\n",
    "#요소 삭제하기\n",
    "del a['car']\n",
    "print(a)"
   ]
  },
  {
   "cell_type": "code",
   "execution_count": null,
   "id": "2ffd62ed-cac2-4828-8dd4-77166eb37c8c",
   "metadata": {},
   "outputs": [],
   "source": []
  }
 ],
 "metadata": {
  "kernelspec": {
   "display_name": "Python 3 (ipykernel)",
   "language": "python",
   "name": "python3"
  },
  "language_info": {
   "codemirror_mode": {
    "name": "ipython",
    "version": 3
   },
   "file_extension": ".py",
   "mimetype": "text/x-python",
   "name": "python",
   "nbconvert_exporter": "python",
   "pygments_lexer": "ipython3",
   "version": "3.10.9"
  }
 },
 "nbformat": 4,
 "nbformat_minor": 5
}
