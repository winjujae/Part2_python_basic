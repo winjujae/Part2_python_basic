{
 "cells": [
  {
   "cell_type": "code",
   "execution_count": 4,
   "id": "482e69af-e1f9-45b6-8a3d-ba7047df1cea",
   "metadata": {},
   "outputs": [
    {
     "name": "stdout",
     "output_type": "stream",
     "text": [
      "[1, 2, 3, 4, 5, 6, 7, 8, 9, 10]\n",
      "[1, 2, 3, 4, 5, 6, 7, 8, 9, 10]\n",
      "[1, 4, 9, 16, 25, 36, 49, 64, 81, 100]\n",
      "[1, 4, 9, 16, 25, 36, 49, 64, 81, 100]\n",
      "[90, 39, 48, 70, 82, 100]\n",
      "[90, 82, 100]\n"
     ]
    }
   ],
   "source": [
    "# list_comprehension\n",
    "a = []\n",
    "for i in range(1,11,1):\n",
    "    a.append(i)\n",
    "print(a)\n",
    "\n",
    "a = [i for i in range(1,11,1)]\n",
    "print(a)\n",
    "#Q- 제곱합\n",
    "a= []\n",
    "for i in range(1,11,1):\n",
    "    a.append(i**2)\n",
    "print(a)\n",
    "\n",
    "a = [i ** 2 for i in range(1,11,1)]\n",
    "print(a)\n",
    "\n",
    "a = [90,39,48,70,82,100]\n",
    "result=[i for i in a]\n",
    "print(result)\n",
    "result = [i for i in a if i >= 80]\n",
    "print(result)"
   ]
  },
  {
   "cell_type": "code",
   "execution_count": 11,
   "id": "91bcb0ef-32b5-4e14-aa54-123f6deb21aa",
   "metadata": {},
   "outputs": [
    {
     "name": "stdout",
     "output_type": "stream",
     "text": [
      "3\n",
      "1\n",
      "3\n",
      "5\n",
      "7\n",
      "4\n",
      "d\n",
      "2\n",
      "50\n"
     ]
    }
   ],
   "source": [
    "#함수\n",
    "def function(x):\n",
    "    print(x+1)\n",
    "function(2)\n",
    "\n",
    "def fun1(x) :\n",
    "    result = x + 1\n",
    "    return result\n",
    "def fun2(x) :\n",
    "    result1 = x + 1\n",
    "    result2 = x + 2\n",
    "    return result1, result2\n",
    "fun1(5), fun2(5)\n",
    "\n",
    "def func4(x):\n",
    "    for i in x :\n",
    "        print(i)\n",
    "a = [1,3,5,7,4,'d',2,50]\n",
    "func4(a)"
   ]
  },
  {
   "cell_type": "code",
   "execution_count": null,
   "id": "85473a39-0563-45ba-ad18-94a3e3b1f0f7",
   "metadata": {},
   "outputs": [],
   "source": []
  }
 ],
 "metadata": {
  "kernelspec": {
   "display_name": "Python 3 (ipykernel)",
   "language": "python",
   "name": "python3"
  },
  "language_info": {
   "codemirror_mode": {
    "name": "ipython",
    "version": 3
   },
   "file_extension": ".py",
   "mimetype": "text/x-python",
   "name": "python",
   "nbconvert_exporter": "python",
   "pygments_lexer": "ipython3",
   "version": "3.10.9"
  }
 },
 "nbformat": 4,
 "nbformat_minor": 5
}
